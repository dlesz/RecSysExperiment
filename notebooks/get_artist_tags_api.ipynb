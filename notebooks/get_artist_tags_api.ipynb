{
 "cells": [
  {
   "cell_type": "code",
   "execution_count": 2,
   "metadata": {},
   "outputs": [
    {
     "name": "stdout",
     "output_type": "stream",
     "text": [
      "Collecting pylast\n",
      "  Downloading https://files.pythonhosted.org/packages/72/7f/a92a204dad7e1ebac1ba338a8afb9d380f2788e28156f61bc64c800aad3f/pylast-3.1.0-py2.py3-none-any.whl\n",
      "Installing collected packages: pylast\n",
      "Successfully installed pylast-3.1.0\n"
     ]
    }
   ],
   "source": [
    "!pip install pylast"
   ]
  },
  {
   "cell_type": "code",
   "execution_count": 3,
   "metadata": {},
   "outputs": [
    {
     "name": "stderr",
     "output_type": "stream",
     "text": [
      "DEBUG:root:test\n"
     ]
    }
   ],
   "source": [
    "import pandas as pd\n",
    "import numpy as np\n",
    "import os\n",
    "import pylast\n",
    "import time\n",
    "import tqdm\n",
    "import h5py\n",
    "from scipy.sparse import coo_matrix, csr_matrix\n",
    "import codecs\n",
    "import logging\n",
    "logger = logging.getLogger()\n",
    "logger.setLevel(logging.DEBUG)\n",
    "logging.debug(\"test\")"
   ]
  },
  {
   "cell_type": "code",
   "execution_count": 4,
   "metadata": {},
   "outputs": [],
   "source": [
    "API_KEY = \"dak62410481168654131dad23134624\"  # this is a sample key\n",
    "API_SECRET = \"kfa69183915851kad51rr1131313131\"\n",
    "network = pylast.LastFMNetwork(api_key=API_KEY, api_secret=API_SECRET)"
   ]
  },
  {
   "cell_type": "code",
   "execution_count": 7,
   "metadata": {},
   "outputs": [],
   "source": [
    "# borrowed from https://github.com/benfred/implicit, modified to read the file locally instead of downloading it.\n",
    "def get_lastfm():\n",
    "    \"\"\"Returns a tuple of (artistids, userids, plays) where plays is a CSR matrix \"\"\"\n",
    "    \n",
    "    filename = '../flaskapp/data/lastfm_360k.hdf5'\n",
    "\n",
    "    with h5py.File(filename, 'r') as f:\n",
    "        m = f.get('artist_user_plays')\n",
    "        plays = csr_matrix((m.get('data'), m.get('indices'), m.get('indptr')))\n",
    "        return np.array(f['artist']), np.array(f['user']), plays"
   ]
  },
  {
   "cell_type": "code",
   "execution_count": 8,
   "metadata": {},
   "outputs": [],
   "source": [
    "# loading data\n",
    "artists, users, plays = get_lastfm()"
   ]
  },
  {
   "cell_type": "code",
   "execution_count": 9,
   "metadata": {},
   "outputs": [],
   "source": [
    "# return top n tags + their weight as a list\n",
    "def lastfm_artist_to_top_n_tags(artist=str, n=int):\n",
    "    #logging.basicConfig(level=logging.DEBUG)\n",
    "    tag_weight = {}\n",
    "\n",
    "    result = network.get_artist(artist).get_top_tags()\n",
    "\n",
    "    for tag in result:\n",
    "        tag_weight[str(tag.item.get_name())] = str(tag.weight) \n",
    "\n",
    "    tag_weight = {k: int(v) for k, v in tag_weight.items()}\n",
    "    results = sorted(tag_weight.items(), key=lambda x: x[1], reverse=True)\n",
    "    results = results[:n]\n",
    "    return results"
   ]
  },
  {
   "cell_type": "code",
   "execution_count": null,
   "metadata": {},
   "outputs": [
    {
     "name": "stderr",
     "output_type": "stream",
     "text": [
      "  0%|          | 0/292385 [00:00<?, ?it/s]DEBUG:pylast:artist.getTopTags\n",
      "  0%|          | 1/292385 [00:01<98:44:59,  1.22s/it]DEBUG:pylast:artist.getTopTags\n",
      "  0%|          | 2/292385 [00:02<98:49:15,  1.22s/it]DEBUG:pylast:artist.getTopTags\n",
      "  0%|          | 3/292385 [00:03<99:02:23,  1.22s/it]DEBUG:pylast:artist.getTopTags\n",
      "  0%|          | 4/292385 [00:04<96:36:23,  1.19s/it]DEBUG:pylast:artist.getTopTags\n",
      "  0%|          | 5/292385 [00:05<90:26:56,  1.11s/it]DEBUG:pylast:artist.getTopTags\n",
      "  0%|          | 6/292385 [00:07<95:50:20,  1.18s/it]DEBUG:pylast:artist.getTopTags\n",
      "  0%|          | 7/292385 [00:08<93:30:46,  1.15s/it]DEBUG:pylast:artist.getTopTags\n",
      "  0%|          | 8/292385 [00:09<106:58:39,  1.32s/it]DEBUG:pylast:artist.getTopTags\n",
      "  0%|          | 9/292385 [00:11<104:01:18,  1.28s/it]DEBUG:pylast:artist.getTopTags\n",
      "  0%|          | 10/292385 [00:12<100:03:13,  1.23s/it]DEBUG:pylast:artist.getTopTags\n",
      "  0%|          | 11/292385 [00:13<102:34:53,  1.26s/it]DEBUG:pylast:artist.getTopTags\n",
      "  0%|          | 12/292385 [00:14<101:48:36,  1.25s/it]DEBUG:pylast:artist.getTopTags\n",
      "  0%|          | 13/292385 [00:15<101:09:16,  1.25s/it]DEBUG:pylast:artist.getTopTags\n",
      "  0%|          | 14/292385 [00:17<100:47:39,  1.24s/it]DEBUG:pylast:artist.getTopTags\n",
      "  0%|          | 15/292385 [00:18<100:29:10,  1.24s/it]DEBUG:pylast:artist.getTopTags\n",
      "  0%|          | 16/292385 [00:19<94:40:15,  1.17s/it] DEBUG:pylast:artist.getTopTags\n",
      "  0%|          | 17/292385 [00:20<88:25:23,  1.09s/it]DEBUG:pylast:artist.getTopTags\n",
      "  0%|          | 18/292385 [00:21<90:14:59,  1.11s/it]DEBUG:pylast:artist.getTopTags\n",
      "  0%|          | 19/292385 [00:22<93:21:29,  1.15s/it]DEBUG:pylast:artist.getTopTags\n",
      "  0%|          | 20/292385 [00:23<95:02:36,  1.17s/it]DEBUG:pylast:artist.getTopTags\n",
      "  0%|          | 21/292385 [00:25<93:48:12,  1.16s/it]DEBUG:pylast:artist.getTopTags\n",
      "  0%|          | 22/292385 [00:26<91:09:34,  1.12s/it]DEBUG:pylast:artist.getTopTags\n",
      "  0%|          | 23/292385 [00:27<90:18:26,  1.11s/it]DEBUG:pylast:artist.getTopTags\n",
      "  0%|          | 24/292385 [00:28<96:43:28,  1.19s/it]DEBUG:pylast:artist.getTopTags\n",
      "  0%|          | 25/292385 [00:29<97:10:18,  1.20s/it]DEBUG:pylast:artist.getTopTags\n",
      "  0%|          | 26/292385 [00:30<94:20:45,  1.16s/it]DEBUG:pylast:artist.getTopTags\n",
      "  0%|          | 27/292385 [00:31<92:02:48,  1.13s/it]DEBUG:pylast:artist.getTopTags\n",
      "  0%|          | 28/292385 [00:33<94:21:44,  1.16s/it]DEBUG:pylast:artist.getTopTags\n",
      "  0%|          | 29/292385 [00:34<96:04:03,  1.18s/it]DEBUG:pylast:artist.getTopTags\n",
      "  0%|          | 30/292385 [00:35<97:08:05,  1.20s/it]DEBUG:pylast:artist.getTopTags\n",
      "  0%|          | 31/292385 [00:36<97:54:30,  1.21s/it]DEBUG:pylast:artist.getTopTags\n",
      "  0%|          | 32/292385 [00:38<98:31:51,  1.21s/it]DEBUG:pylast:artist.getTopTags\n",
      "  0%|          | 33/292385 [00:39<98:51:33,  1.22s/it]DEBUG:pylast:artist.getTopTags\n",
      "  0%|          | 34/292385 [00:40<99:10:02,  1.22s/it]DEBUG:pylast:artist.getTopTags\n",
      "  0%|          | 35/292385 [00:41<99:21:24,  1.22s/it]DEBUG:pylast:artist.getTopTags\n",
      "  0%|          | 36/292385 [00:42<99:27:13,  1.22s/it]DEBUG:pylast:artist.getTopTags\n",
      "  0%|          | 37/292385 [00:44<98:28:16,  1.21s/it]DEBUG:pylast:artist.getTopTags\n",
      "  0%|          | 38/292385 [00:45<92:30:44,  1.14s/it]DEBUG:pylast:artist.getTopTags\n",
      "  0%|          | 39/292385 [00:46<94:59:03,  1.17s/it]DEBUG:pylast:artist.getTopTags\n",
      "  0%|          | 40/292385 [00:47<92:16:06,  1.14s/it]DEBUG:pylast:artist.getTopTags\n",
      "  0%|          | 41/292385 [00:48<87:50:06,  1.08s/it]DEBUG:pylast:artist.getTopTags\n",
      "  0%|          | 42/292385 [00:49<94:26:17,  1.16s/it]DEBUG:pylast:artist.getTopTags\n",
      "  0%|          | 43/292385 [00:50<88:39:07,  1.09s/it]DEBUG:pylast:artist.getTopTags\n",
      "  0%|          | 44/292385 [00:51<92:12:31,  1.14s/it]DEBUG:pylast:artist.getTopTags\n",
      "  0%|          | 45/292385 [00:53<94:14:08,  1.16s/it]DEBUG:pylast:artist.getTopTags\n",
      "  0%|          | 46/292385 [00:54<95:50:49,  1.18s/it]DEBUG:pylast:artist.getTopTags\n",
      "  0%|          | 47/292385 [00:55<89:39:34,  1.10s/it]DEBUG:pylast:artist.getTopTags\n",
      "  0%|          | 48/292385 [00:56<100:52:28,  1.24s/it]DEBUG:pylast:artist.getTopTags\n",
      "  0%|          | 49/292385 [00:57<92:33:59,  1.14s/it] DEBUG:pylast:artist.getTopTags\n",
      "  0%|          | 50/292385 [00:58<94:24:29,  1.16s/it]DEBUG:pylast:artist.getTopTags\n",
      "  0%|          | 51/292385 [01:00<95:59:07,  1.18s/it]DEBUG:pylast:artist.getTopTags\n",
      "  0%|          | 52/292385 [01:01<97:17:36,  1.20s/it]DEBUG:pylast:artist.getTopTags\n",
      "  0%|          | 53/292385 [01:02<97:57:44,  1.21s/it]DEBUG:pylast:artist.getTopTags\n",
      "  0%|          | 54/292385 [01:03<98:57:38,  1.22s/it]DEBUG:pylast:artist.getTopTags\n",
      "  0%|          | 55/292385 [01:04<91:11:33,  1.12s/it]DEBUG:pylast:artist.getTopTags\n",
      "  0%|          | 56/292385 [01:05<90:34:41,  1.12s/it]DEBUG:pylast:artist.getTopTags\n",
      "  0%|          | 57/292385 [01:07<97:07:23,  1.20s/it]DEBUG:pylast:artist.getTopTags\n",
      "  0%|          | 58/292385 [01:08<90:25:08,  1.11s/it]DEBUG:pylast:artist.getTopTags\n",
      "  0%|          | 59/292385 [01:09<93:13:14,  1.15s/it]DEBUG:pylast:artist.getTopTags\n",
      "  0%|          | 60/292385 [01:10<94:41:48,  1.17s/it]DEBUG:pylast:artist.getTopTags\n",
      "  0%|          | 61/292385 [01:11<93:08:38,  1.15s/it]DEBUG:pylast:artist.getTopTags\n",
      "  0%|          | 62/292385 [01:13<98:19:19,  1.21s/it]DEBUG:pylast:artist.getTopTags\n",
      "  0%|          | 63/292385 [01:14<91:28:03,  1.13s/it]DEBUG:pylast:artist.getTopTags\n"
     ]
    }
   ],
   "source": [
    "start = time.time()\n",
    "with tqdm.tqdm(total=len(artists)) as progress:\n",
    "    with codecs.open('lastfm_artist_tags.csv', \"w\", \"utf8\") as o:\n",
    "        for i in artists:\n",
    "            a = i\n",
    "            #a = a.strip()\n",
    "            #print(a,end='')\n",
    "            if(isinstance(a, str)):\n",
    "                try: \n",
    "                    top = lastfm_artist_to_top_n_tags(a, n=10)\n",
    "                    o.write(\"%s\\t%s\\n\" % (a, str(top)))\n",
    "                except:\n",
    "                    pass\n",
    "                    # if no tags, write nan\n",
    "                    empty = np.nan \n",
    "                    o.write(\"%s\\t%s\\n\" % (a, empty))\n",
    "                top = ''\n",
    "                progress.update(1)\n",
    "        print('elapsed: '+str(time.time()-start))\n",
    "logging.debug(\"process  in %0.2fs\",  time.time() - start)"
   ]
  }
 ],
 "metadata": {
  "anaconda-cloud": {},
  "kernelspec": {
   "display_name": "Python 3",
   "language": "python",
   "name": "python3"
  },
  "language_info": {
   "codemirror_mode": {
    "name": "ipython",
    "version": 3
   },
   "file_extension": ".py",
   "mimetype": "text/x-python",
   "name": "python",
   "nbconvert_exporter": "python",
   "pygments_lexer": "ipython3",
   "version": "3.7.1"
  }
 },
 "nbformat": 4,
 "nbformat_minor": 2
}
