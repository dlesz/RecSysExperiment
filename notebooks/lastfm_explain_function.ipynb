{
 "cells": [
  {
   "cell_type": "markdown",
   "metadata": {},
   "source": [
    "# Shows how the `explain()` in Implicit work"
   ]
  },
  {
   "cell_type": "code",
   "execution_count": 2,
   "metadata": {},
   "outputs": [],
   "source": [
    "# Loading dependencies\n",
    "import argparse\n",
    "import codecs\n",
    "import logging\n",
    "import time\n",
    "import tqdm\n",
    "import h5py\n",
    "from scipy.sparse import coo_matrix, csr_matrix\n",
    "import scipy.sparse as sp\n",
    "from random import randint\n",
    "import pickle\n",
    "import os\n",
    "import itertools\n",
    "import numpy as np\n",
    "import pandas as pd\n",
    "\n",
    "#### wordcloud dependencies\n",
    "import matplotlib.pyplot as plt # data visualization library\n",
    "from wordcloud import WordCloud, STOPWORDS #used to generate world cloud\n",
    "import seaborn as sns\n",
    "\n",
    "from implicit.als import AlternatingLeastSquares\n",
    "from implicit.approximate_als import (AnnoyAlternatingLeastSquares, FaissAlternatingLeastSquares,\n",
    "                                      NMSLibAlternatingLeastSquares)"
   ]
  },
  {
   "cell_type": "markdown",
   "metadata": {},
   "source": [
    "# Loading Last.fm dataset"
   ]
  },
  {
   "cell_type": "code",
   "execution_count": 3,
   "metadata": {},
   "outputs": [],
   "source": [
    "# borrowed from https://github.com/benfred/implicit, modified to read the file locally instead of downloading it.\n",
    "def get_lastfm():\n",
    "    \"\"\"Returns a tuple of (artistids, userids, plays) where plays is a CSR matrix \"\"\"\n",
    "    \n",
    "    filename = '../flaskapp/data/lastfm_360k.hdf5'\n",
    "\n",
    "    with h5py.File(filename, 'r') as f:\n",
    "        m = f.get('artist_user_plays')\n",
    "        plays = csr_matrix((m.get('data'), m.get('indices'), m.get('indptr')))\n",
    "        return np.array(f['artist']), np.array(f['user']), plays"
   ]
  },
  {
   "cell_type": "code",
   "execution_count": 4,
   "metadata": {},
   "outputs": [],
   "source": [
    "# loading data\n",
    "artists, users, plays = get_lastfm()"
   ]
  },
  {
   "cell_type": "markdown",
   "metadata": {},
   "source": [
    "# Training the baseline model"
   ]
  },
  {
   "cell_type": "code",
   "execution_count": 5,
   "metadata": {},
   "outputs": [
    {
     "name": "stderr",
     "output_type": "stream",
     "text": [
      "WARNING:root:Intel MKL BLAS detected. Its highly recommend to set the environment variable 'export MKL_NUM_THREADS=1' to disable its internal multithreading\n"
     ]
    }
   ],
   "source": [
    "model = AlternatingLeastSquares(factors=128, regularization=20, iterations=15)\n",
    "os.environ['OPENBLAS_NUM_THREADS'] = \"1\""
   ]
  },
  {
   "cell_type": "code",
   "execution_count": 6,
   "metadata": {},
   "outputs": [
    {
     "name": "stderr",
     "output_type": "stream",
     "text": [
      "100%|██████████| 15.0/15 [04:29<00:00, 21.30s/it]\n"
     ]
    }
   ],
   "source": [
    "model.fit(plays)"
   ]
  },
  {
   "cell_type": "markdown",
   "metadata": {},
   "source": [
    "# Defining a random user to recommend for"
   ]
  },
  {
   "cell_type": "code",
   "execution_count": 30,
   "metadata": {},
   "outputs": [
    {
     "data": {
      "text/plain": [
       "['animal collective',\n",
       " 'apparat',\n",
       " 'architecture in helsinki',\n",
       " 'azeda booth',\n",
       " 'band of horses',\n",
       " 'beck',\n",
       " 'blitzen trapper',\n",
       " 'bloc party',\n",
       " 'blonde redhead',\n",
       " \"bonnie 'prince' billy\",\n",
       " 'brightblack morning light',\n",
       " 'built to spill',\n",
       " 'crystal stilts',\n",
       " 'deerhunter',\n",
       " 'department of eagles',\n",
       " 'fleet foxes',\n",
       " 'glass candy',\n",
       " 'grizzly bear',\n",
       " 'health',\n",
       " 'iron & wine',\n",
       " 'jim james',\n",
       " 'meanest man contest',\n",
       " 'mgmt',\n",
       " 'modest mouse',\n",
       " 'nick cave & the bad seeds',\n",
       " 'nick lowe',\n",
       " 'of montreal',\n",
       " 'panther',\n",
       " 'ratatat',\n",
       " 'rogue wave',\n",
       " 'seamonster¹',\n",
       " 'spoon',\n",
       " 'starfucker',\n",
       " 'stephen malkmus',\n",
       " 'the black keys',\n",
       " 'the cool kids',\n",
       " 'the dodos',\n",
       " 'the national',\n",
       " 'the pharmacy',\n",
       " 'the raconteurs',\n",
       " 'the walkmen',\n",
       " 'the white stripes',\n",
       " 'tv on the radio']"
      ]
     },
     "execution_count": 30,
     "metadata": {},
     "output_type": "execute_result"
    }
   ],
   "source": [
    "u_id = 513\n",
    "[artists[a] for a in plays.getcol(u_id).tocoo().row]\n",
    "# user items, alphabetically sorted."
   ]
  },
  {
   "cell_type": "markdown",
   "metadata": {},
   "source": [
    "# print baseline recommendations"
   ]
  },
  {
   "cell_type": "code",
   "execution_count": 19,
   "metadata": {},
   "outputs": [],
   "source": [
    "def printRecs(u_id):\n",
    "    p = sp.csr_matrix(plays.copy())\n",
    "    user_plays = p.T.tocsr()\n",
    "    for artistid, score in model.recommend(u_id, user_plays, recalculate_user=False, N=20):\n",
    "        #print('artist id: '+str(artistid) + ' '+ artists[artistid] + ' score: ' + str(score))\n",
    "        print(str(artists[artistid]) +\"(\"+str(artistid)+\")\" + ' score: ' + str(score))"
   ]
  },
  {
   "cell_type": "code",
   "execution_count": 20,
   "metadata": {},
   "outputs": [
    {
     "name": "stdout",
     "output_type": "stream",
     "text": [
      "bon iver(52989) score: 0.95276856\n",
      "andrew bird(24304) score: 0.9154794\n",
      "my morning jacket(194761) score: 0.89223385\n",
      "beirut(43089) score: 0.8891827\n",
      "broken social scene(56783) score: 0.8805647\n",
      "the shins(262555) score: 0.8518601\n",
      "vampire weekend(274818) score: 0.84480655\n",
      "kings of leon(161432) score: 0.8363707\n",
      "arcade fire(30091) score: 0.829973\n",
      "beach house(41971) score: 0.8244278\n",
      "girl talk(125452) score: 0.8239067\n",
      "dr. dog(99656) score: 0.8174257\n",
      "menomena(185743) score: 0.8120258\n",
      "the flaming lips(256038) score: 0.80339265\n",
      "okkervil river(203087) score: 0.79054725\n",
      "the decemberists(254804) score: 0.7901379\n",
      "sufjan stevens(245610) score: 0.78894305\n",
      "caribou(62539) score: 0.7873214\n",
      "interpol(142048) score: 0.78666675\n",
      "elliott smith(106496) score: 0.78244257\n",
      "\n",
      "elapsed: 1.0600829124450684\n"
     ]
    }
   ],
   "source": [
    "start = time.time()\n",
    "printRecs(u_id)\n",
    "print()\n",
    "print(\"elapsed: \"+ str(time.time()-start))"
   ]
  },
  {
   "cell_type": "code",
   "execution_count": 31,
   "metadata": {},
   "outputs": [],
   "source": [
    "def explain(u_id, item_id):\n",
    "    # explain the recommendation by using the model func explain()\n",
    "    p = sp.csr_matrix(plays.copy())\n",
    "    user_plays = p.T.tocsr()\n",
    "    top_score_explained, top_contributions, W = model.explain(userid=u_id, user_items=user_plays, itemid=item_id, user_weights=None, N=10)\n",
    "    return top_score_explained, top_contributions"
   ]
  },
  {
   "cell_type": "code",
   "execution_count": 32,
   "metadata": {},
   "outputs": [],
   "source": [
    "# explanation for the recommendation bon iver(52989) score: 0.95276856\n",
    "top_score_explained, top_contributions = explain(u_id, 52989)"
   ]
  },
  {
   "cell_type": "code",
   "execution_count": 33,
   "metadata": {},
   "outputs": [
    {
     "data": {
      "text/plain": [
       "0.9375970576153871"
      ]
     },
     "execution_count": 33,
     "metadata": {},
     "output_type": "execute_result"
    }
   ],
   "source": [
    "top_score_explained"
   ]
  },
  {
   "cell_type": "code",
   "execution_count": 34,
   "metadata": {},
   "outputs": [
    {
     "name": "stdout",
     "output_type": "stream",
     "text": [
      "fleet foxes, 0.16996315155682637\n",
      "bonnie 'prince' billy, 0.1263029009510567\n",
      "department of eagles, 0.09213594575253842\n",
      "band of horses, 0.09157829037040019\n",
      "mgmt, 0.08192097391784169\n",
      "the national, 0.07711950032447022\n",
      "iron & wine, 0.05156663545217489\n",
      "deerhunter, 0.04969274501101792\n",
      "tv on the radio, 0.039296525839094654\n",
      "the dodos, 0.03469614815419167\n"
     ]
    }
   ],
   "source": [
    "for a in top_contributions:\n",
    "    print(artists[a[0]]+\", \"+str(a[1]))"
   ]
  }
 ],
 "metadata": {
  "anaconda-cloud": {},
  "kernelspec": {
   "display_name": "Python [conda env:recsys]",
   "language": "python",
   "name": "conda-env-recsys-py"
  },
  "language_info": {
   "codemirror_mode": {
    "name": "ipython",
    "version": 3
   },
   "file_extension": ".py",
   "mimetype": "text/x-python",
   "name": "python",
   "nbconvert_exporter": "python",
   "pygments_lexer": "ipython3",
   "version": "3.6.5"
  }
 },
 "nbformat": 4,
 "nbformat_minor": 2
}
